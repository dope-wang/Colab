{
  "cells": [
    {
      "cell_type": "markdown",
      "metadata": {
        "id": "view-in-github",
        "colab_type": "text"
      },
      "source": [
        "<a href=\"https://colab.research.google.com/github/dope-wang/-/blob/main/Yolov5.ipynb\" target=\"_parent\"><img src=\"https://colab.research.google.com/assets/colab-badge.svg\" alt=\"Open In Colab\"/></a>"
      ]
    },
    {
      "cell_type": "code",
      "execution_count": null,
      "metadata": {
        "id": "W4XvAtEFDKC2"
      },
      "outputs": [],
      "source": [
        "  %%capture\n",
        "!git clone https://github.com/ultralytics/yolov5.git\n",
        "%cd /content/yolov5\n",
        "!pip install -r requirements.txt\n",
        "!pip install wandb==0.12.10"
      ]
    },
    {
      "cell_type": "code",
      "source": [
        "# Colab 進行matplotlib繪圖時顯示繁體中文\n",
        "# 下載台北思源黑體並命名taipei_sans_tc_beta.ttf，移至指定路徑\n",
        "!wget -O TaipeiSansTCBeta-Regular.ttf https://drive.google.com/uc?id=1eGAsTN1HBpJAkeVM57_C7ccp7hbgSz3_&export=download\n",
        "\n",
        "# import matplotlib as mpl\n",
        "# import matplotlib.pyplot as plt \n",
        "# from matplotlib.font_manager import fontManager\n",
        "\n",
        "# 改style要在改font之前\n",
        "# plt.style.use('seaborn')  \n",
        "\n",
        "# fontManager.addfont('TaipeiSansTCBeta-Regular.ttf')\n",
        "# mpl.rc('font', family='Taipei Sans TC Beta')"
      ],
      "metadata": {
        "colab": {
          "base_uri": "https://localhost:8080/"
        },
        "id": "cDtHYCQLVykl",
        "outputId": "6d6283b9-8a83-4169-f1a8-33c27a8e4af2"
      },
      "execution_count": null,
      "outputs": [
        {
          "output_type": "stream",
          "name": "stdout",
          "text": [
            "--2022-07-30 09:03:02--  https://drive.google.com/uc?id=1eGAsTN1HBpJAkeVM57_C7ccp7hbgSz3_\n",
            "Resolving drive.google.com (drive.google.com)... 74.125.24.101, 74.125.24.102, 74.125.24.100, ...\n",
            "Connecting to drive.google.com (drive.google.com)|74.125.24.101|:443... connected.\n",
            "HTTP request sent, awaiting response... 303 See Other\n",
            "Location: https://doc-0k-9o-docs.googleusercontent.com/docs/securesc/ha0ro937gcuc7l7deffksulhg5h7mbp1/ndvnkbj9cdtl7f70atao7m3mpur3gsat/1659171750000/02847987870453524430/*/1eGAsTN1HBpJAkeVM57_C7ccp7hbgSz3_?uuid=4c8dbb9a-43c2-4fce-9ca7-68434a78621c [following]\n",
            "Warning: wildcards not supported in HTTP.\n",
            "--2022-07-30 09:03:07--  https://doc-0k-9o-docs.googleusercontent.com/docs/securesc/ha0ro937gcuc7l7deffksulhg5h7mbp1/ndvnkbj9cdtl7f70atao7m3mpur3gsat/1659171750000/02847987870453524430/*/1eGAsTN1HBpJAkeVM57_C7ccp7hbgSz3_?uuid=4c8dbb9a-43c2-4fce-9ca7-68434a78621c\n",
            "Resolving doc-0k-9o-docs.googleusercontent.com (doc-0k-9o-docs.googleusercontent.com)... 74.125.200.132, 2404:6800:4003:c00::84\n",
            "Connecting to doc-0k-9o-docs.googleusercontent.com (doc-0k-9o-docs.googleusercontent.com)|74.125.200.132|:443... connected.\n",
            "HTTP request sent, awaiting response... 200 OK\n",
            "Length: 20659344 (20M) [application/x-font-ttf]\n",
            "Saving to: ‘TaipeiSansTCBeta-Regular.ttf’\n",
            "\n",
            "TaipeiSansTCBeta-Re 100%[===================>]  19.70M  54.9MB/s    in 0.4s    \n",
            "\n",
            "2022-07-30 09:03:08 (54.9 MB/s) - ‘TaipeiSansTCBeta-Regular.ttf’ saved [20659344/20659344]\n",
            "\n"
          ]
        }
      ]
    },
    {
      "cell_type": "code",
      "execution_count": null,
      "metadata": {
        "colab": {
          "base_uri": "https://localhost:8080/"
        },
        "id": "gRyq9uuHZhAM",
        "outputId": "477ea6ad-b015-445b-983c-c8864465c337"
      },
      "outputs": [
        {
          "output_type": "stream",
          "name": "stdout",
          "text": [
            "Mounted at /content/drive\n"
          ]
        }
      ],
      "source": [
        "from google.colab import drive\n",
        "drive.mount('/content/drive')"
      ]
    },
    {
      "cell_type": "code",
      "execution_count": null,
      "metadata": {
        "id": "ZBuBYqC6Jnuq",
        "colab": {
          "base_uri": "https://localhost:8080/"
        },
        "outputId": "06052d22-3525-420b-dbc8-175c995326b6"
      },
      "outputs": [
        {
          "output_type": "stream",
          "name": "stdout",
          "text": [
            "\u001b[34m\u001b[1mwandb\u001b[0m: Currently logged in as: \u001b[33mdope_wang\u001b[0m (use `wandb login --relogin` to force relogin)\n",
            "\u001b[34m\u001b[1mtrain: \u001b[0mweights=yolov5s.pt, cfg=, data=/content/drive/MyDrive/labels/medicine.yaml, hyp=data/hyps/hyp.scratch-low.yaml, epochs=50, batch_size=16, imgsz=640, rect=False, resume=False, nosave=False, noval=False, noautoanchor=False, noplots=False, evolve=None, bucket=, cache=ram, image_weights=False, device=, multi_scale=False, single_cls=False, optimizer=SGD, sync_bn=False, workers=8, project=offical_V1, name=exp, exist_ok=False, quad=False, cos_lr=False, label_smoothing=0.0, patience=100, freeze=[0], save_period=1, seed=0, local_rank=-1, entity=None, upload_dataset=False, bbox_interval=1, artifact_alias=latest\n",
            "\u001b[34m\u001b[1mgithub: \u001b[0mskipping check (Docker image), for updates see https://github.com/ultralytics/yolov5\n",
            "YOLOv5 🚀 v6.1-329-g52d3a9a Python-3.7.13 torch-1.12.0+cu113 CUDA:0 (Tesla T4, 15110MiB)\n",
            "\n",
            "\u001b[34m\u001b[1mhyperparameters: \u001b[0mlr0=0.01, lrf=0.01, momentum=0.937, weight_decay=0.0005, warmup_epochs=3.0, warmup_momentum=0.8, warmup_bias_lr=0.1, box=0.05, cls=0.5, cls_pw=1.0, obj=1.0, obj_pw=1.0, iou_t=0.2, anchor_t=4.0, fl_gamma=0.0, hsv_h=0.015, hsv_s=0.7, hsv_v=0.4, degrees=0.0, translate=0.1, scale=0.5, shear=0.0, perspective=0.0, flipud=0.0, fliplr=0.5, mosaic=1.0, mixup=0.0, copy_paste=0.0\n",
            "\u001b[34m\u001b[1mTensorBoard: \u001b[0mStart with 'tensorboard --logdir offical_V1', view at http://localhost:6006/\n",
            "\u001b[34m\u001b[1mwandb\u001b[0m: wandb version 0.12.21 is available!  To upgrade, please run:\n",
            "\u001b[34m\u001b[1mwandb\u001b[0m:  $ pip install wandb --upgrade\n",
            "\u001b[34m\u001b[1mwandb\u001b[0m: Tracking run with wandb version 0.12.10\n",
            "\u001b[34m\u001b[1mwandb\u001b[0m: Syncing run \u001b[33mrobust-rain-88\u001b[0m\n",
            "\u001b[34m\u001b[1mwandb\u001b[0m: ⭐️ View project at \u001b[34m\u001b[4mhttps://wandb.ai/dope_wang/offical_V1\u001b[0m\n",
            "\u001b[34m\u001b[1mwandb\u001b[0m: 🚀 View run at \u001b[34m\u001b[4mhttps://wandb.ai/dope_wang/offical_V1/runs/mv64i1zk\u001b[0m\n",
            "\u001b[34m\u001b[1mwandb\u001b[0m: Run data is saved locally in /content/yolov5/wandb/run-20220730_100513-mv64i1zk\n",
            "\u001b[34m\u001b[1mwandb\u001b[0m: Run `wandb offline` to turn off syncing.\n",
            "\n",
            "Overriding model.yaml nc=80 with nc=26\n",
            "\n",
            "                 from  n    params  module                                  arguments                     \n",
            "  0                -1  1      3520  models.common.Conv                      [3, 32, 6, 2, 2]              \n",
            "  1                -1  1     18560  models.common.Conv                      [32, 64, 3, 2]                \n",
            "  2                -1  1     18816  models.common.C3                        [64, 64, 1]                   \n",
            "  3                -1  1     73984  models.common.Conv                      [64, 128, 3, 2]               \n",
            "  4                -1  2    115712  models.common.C3                        [128, 128, 2]                 \n",
            "  5                -1  1    295424  models.common.Conv                      [128, 256, 3, 2]              \n",
            "  6                -1  3    625152  models.common.C3                        [256, 256, 3]                 \n",
            "  7                -1  1   1180672  models.common.Conv                      [256, 512, 3, 2]              \n",
            "  8                -1  1   1182720  models.common.C3                        [512, 512, 1]                 \n",
            "  9                -1  1    656896  models.common.SPPF                      [512, 512, 5]                 \n",
            " 10                -1  1    131584  models.common.Conv                      [512, 256, 1, 1]              \n",
            " 11                -1  1         0  torch.nn.modules.upsampling.Upsample    [None, 2, 'nearest']          \n",
            " 12           [-1, 6]  1         0  models.common.Concat                    [1]                           \n",
            " 13                -1  1    361984  models.common.C3                        [512, 256, 1, False]          \n",
            " 14                -1  1     33024  models.common.Conv                      [256, 128, 1, 1]              \n",
            " 15                -1  1         0  torch.nn.modules.upsampling.Upsample    [None, 2, 'nearest']          \n",
            " 16           [-1, 4]  1         0  models.common.Concat                    [1]                           \n",
            " 17                -1  1     90880  models.common.C3                        [256, 128, 1, False]          \n",
            " 18                -1  1    147712  models.common.Conv                      [128, 128, 3, 2]              \n",
            " 19          [-1, 14]  1         0  models.common.Concat                    [1]                           \n",
            " 20                -1  1    296448  models.common.C3                        [256, 256, 1, False]          \n",
            " 21                -1  1    590336  models.common.Conv                      [256, 256, 3, 2]              \n",
            " 22          [-1, 10]  1         0  models.common.Concat                    [1]                           \n",
            " 23                -1  1   1182720  models.common.C3                        [512, 512, 1, False]          \n",
            " 24      [17, 20, 23]  1     83607  models.yolo.Detect                      [26, [[10, 13, 16, 30, 33, 23], [30, 61, 62, 45, 59, 119], [116, 90, 156, 198, 373, 326]], [128, 256, 512]]\n",
            "Model summary: 270 layers, 7089751 parameters, 7089751 gradients, 16.2 GFLOPs\n",
            "\n",
            "Transferred 343/349 items from yolov5s.pt\n",
            "\u001b[34m\u001b[1mAMP: \u001b[0mchecks passed ✅\n",
            "Scaled weight_decay = 0.0005\n",
            "\u001b[34m\u001b[1moptimizer:\u001b[0m SGD with parameter groups 57 weight (no decay), 60 weight, 60 bias\n",
            "\u001b[34m\u001b[1malbumentations: \u001b[0mversion 1.0.3 required by YOLOv5, but version 0.1.12 is currently installed\n",
            "\u001b[34m\u001b[1mtrain: \u001b[0mScanning '/content/drive/MyDrive/labels/train' images and labels...2948 found, 0 missing, 0 empty, 0 corrupt: 100% 2948/2948 [00:19<00:00, 150.45it/s]\n",
            "\u001b[34m\u001b[1mtrain: \u001b[0mNew cache created: /content/drive/MyDrive/labels/train.cache\n",
            "\u001b[34m\u001b[1mtrain: \u001b[0mCaching images (3.6GB ram): 100% 2948/2948 [00:15<00:00, 190.55it/s]\n",
            "\u001b[34m\u001b[1mval: \u001b[0mScanning '/content/drive/MyDrive/labels/val' images and labels...734 found, 0 missing, 0 empty, 0 corrupt: 100% 734/734 [00:04<00:00, 155.46it/s]\n",
            "\u001b[34m\u001b[1mval: \u001b[0mNew cache created: /content/drive/MyDrive/labels/val.cache\n",
            "\u001b[34m\u001b[1mval: \u001b[0mCaching images (0.9GB ram): 100% 734/734 [00:04<00:00, 181.49it/s]\n",
            "Plotting labels to offical_V1/exp2/labels.jpg... \n",
            "\n",
            "\u001b[34m\u001b[1mAutoAnchor: \u001b[0m4.40 anchors/target, 1.000 Best Possible Recall (BPR). Current anchors are a good fit to dataset ✅\n",
            "Image sizes 640 train, 640 val\n",
            "Using 2 dataloader workers\n",
            "Logging results to \u001b[1moffical_V1/exp2\u001b[0m\n",
            "Starting training for 50 epochs...\n",
            "\n",
            "     Epoch   gpu_mem       box       obj       cls    labels  img_size\n",
            "      0/49     3.76G   0.07174   0.03516   0.07793         9       640: 100% 185/185 [00:46<00:00,  4.00it/s]\n",
            "               Class     Images     Labels          P          R     mAP@.5 mAP@.5:.95: 100% 23/23 [00:11<00:00,  1.97it/s]\n",
            "                 all        734       1789      0.434      0.196      0.118     0.0646\n",
            "Saving model artifact on epoch 1\n",
            "\n",
            "     Epoch   gpu_mem       box       obj       cls    labels  img_size\n",
            "      1/49     4.66G   0.05108   0.02605   0.06455        77       640:  54% 99/185 [00:22<00:19,  4.51it/s]"
          ]
        }
      ],
      "source": [
        "# 手癢也可以試試yolov5m.pt, yolov5l.pt, yolov5x.pt\n",
        "!python train.py --data /content/drive/MyDrive/labels/medicine.yaml --epochs 50 --project offical_V1 --bbox_interval 1 --save-period 1 --weights yolov5s.pt --cache"
      ]
    },
    {
      "cell_type": "code",
      "execution_count": null,
      "metadata": {
        "id": "ihKHCgfcQad1",
        "colab": {
          "base_uri": "https://localhost:8080/"
        },
        "outputId": "eeeef1b9-3a32-4654-9599-e8ec673b98eb"
      },
      "outputs": [
        {
          "output_type": "stream",
          "name": "stdout",
          "text": [
            "\u001b[34m\u001b[1mdetect: \u001b[0mweights=['/content/yolov5/data/123.pt'], source=/content/drive/MyDrive/測試照片, data=data/coco128.yaml, imgsz=[640, 640], conf_thres=0.25, iou_thres=0.45, max_det=1000, device=, view_img=False, save_txt=False, save_conf=False, save_crop=False, nosave=False, classes=None, agnostic_nms=False, augment=False, visualize=False, update=False, project=runs/detect, name=exp, exist_ok=False, line_thickness=3, hide_labels=False, hide_conf=False, half=False, dnn=False\n",
            "YOLOv5 🚀 v6.1-320-gb367860 Python-3.7.13 torch-1.12.0+cu113 CUDA:0 (Tesla T4, 15110MiB)\n",
            "\n",
            "Fusing layers... \n",
            "Model summary: 213 layers, 7099126 parameters, 0 gradients, 16.0 GFLOPs\n",
            "image 1/35 /content/drive/MyDrive/測試照片/LINE_ALBUM_220726_0.jpg: 480x640 3 當歸s, Done. (0.014s)\n",
            "image 2/35 /content/drive/MyDrive/測試照片/LINE_ALBUM_220726_1.jpg: 480x640 2 當歸s, Done. (0.010s)\n",
            "image 3/35 /content/drive/MyDrive/測試照片/LINE_ALBUM_220726_10.jpg: 480x640 Done. (0.010s)\n",
            "image 4/35 /content/drive/MyDrive/測試照片/LINE_ALBUM_220726_11.jpg: 480x640 2 桂枝s, 4 枸杞s, 2 一條根s, Done. (0.011s)\n",
            "image 5/35 /content/drive/MyDrive/測試照片/LINE_ALBUM_220726_12.jpg: 480x640 2 陳皮s, 4 菊花s, Done. (0.010s)\n",
            "image 6/35 /content/drive/MyDrive/測試照片/LINE_ALBUM_220726_13.jpg: 480x640 3 珠貝s, Done. (0.011s)\n",
            "image 7/35 /content/drive/MyDrive/測試照片/LINE_ALBUM_220726_14.jpg: 480x640 3 紅棗s, 2 陳皮s, Done. (0.010s)\n",
            "image 8/35 /content/drive/MyDrive/測試照片/LINE_ALBUM_220726_15.jpg: 480x640 1 紅棗, 2 膨大海s, 1 熟地, 2 雞血藤s, 2 肉蓯蓉s, Done. (0.010s)\n",
            "image 9/35 /content/drive/MyDrive/測試照片/LINE_ALBUM_220726_16.jpg: 480x640 1 沒藥, 1 紅棗, 1 膨大海, 2 陳皮s, Done. (0.010s)\n",
            "image 10/35 /content/drive/MyDrive/測試照片/LINE_ALBUM_220726_17.jpg: 480x640 4 紅耆s, 2 棉黃耆s, 1 黃耆, Done. (0.011s)\n",
            "image 11/35 /content/drive/MyDrive/測試照片/LINE_ALBUM_220726_18.jpg: 480x640 1 紅耆, 1 棉黃耆, 1 黃耆, 1 桂枝, 1 當歸, Done. (0.010s)\n",
            "image 12/35 /content/drive/MyDrive/測試照片/LINE_ALBUM_220726_19.jpg: 480x640 1 紅耆, 1 棉黃耆, 2 川芎s, Done. (0.010s)\n",
            "image 13/35 /content/drive/MyDrive/測試照片/LINE_ALBUM_220726_2.jpg: 480x640 4 紅耆s, Done. (0.011s)\n",
            "image 14/35 /content/drive/MyDrive/測試照片/LINE_ALBUM_220726_20.jpg: 480x640 1 桂枝, 1 白芍, 2 人蔘片s, Done. (0.010s)\n",
            "image 15/35 /content/drive/MyDrive/測試照片/LINE_ALBUM_220726_21.jpg: 480x640 5 桂枝s, 1 一條根, Done. (0.010s)\n",
            "image 16/35 /content/drive/MyDrive/測試照片/LINE_ALBUM_220726_22.jpg: 480x640 3 桂枝s, 2 川芎s, Done. (0.010s)\n",
            "image 17/35 /content/drive/MyDrive/測試照片/LINE_ALBUM_220726_23.jpg: 480x640 1 棉黃耆, 2 桂枝s, 4 白芍s, Done. (0.010s)\n",
            "image 18/35 /content/drive/MyDrive/測試照片/LINE_ALBUM_220726_24.jpg: 480x640 1 紅耆, 1 黃耆, 5 白芍s, 4 人蔘片s, Done. (0.010s)\n",
            "image 19/35 /content/drive/MyDrive/測試照片/LINE_ALBUM_220726_25.jpg: 480x640 1 紅耆, 2 黃耆s, 1 白芍, Done. (0.010s)\n",
            "image 20/35 /content/drive/MyDrive/測試照片/LINE_ALBUM_220726_26.jpg: 480x640 3 白芍s, 4 人蔘片s, Done. (0.011s)\n",
            "image 21/35 /content/drive/MyDrive/測試照片/LINE_ALBUM_220726_27.jpg: 480x640 1 紅耆, 4 當歸s, Done. (0.010s)\n",
            "image 22/35 /content/drive/MyDrive/測試照片/LINE_ALBUM_220726_28.jpg: 480x640 5 紅耆s, 1 棉黃耆, 7 黃耆s, Done. (0.011s)\n",
            "image 23/35 /content/drive/MyDrive/測試照片/LINE_ALBUM_220726_29.jpg: 480x640 1 紅耆, 3 黃耆s, 1 當歸, Done. (0.010s)\n",
            "image 24/35 /content/drive/MyDrive/測試照片/LINE_ALBUM_220726_3.jpg: 480x640 3 紅耆s, 1 狗尾草, 1 玉竹, Done. (0.010s)\n",
            "image 25/35 /content/drive/MyDrive/測試照片/LINE_ALBUM_220726_30.jpg: 480x640 4 紅耆s, 1 當歸, Done. (0.010s)\n",
            "image 26/35 /content/drive/MyDrive/測試照片/LINE_ALBUM_220726_31.jpg: 480x640 2 紅耆s, 3 棉黃耆s, Done. (0.010s)\n",
            "image 27/35 /content/drive/MyDrive/測試照片/LINE_ALBUM_220726_32.jpg: 480x640 1 紅耆, 4 當歸s, Done. (0.010s)\n",
            "image 28/35 /content/drive/MyDrive/測試照片/LINE_ALBUM_220726_33.jpg: 480x640 5 當歸s, Done. (0.011s)\n",
            "image 29/35 /content/drive/MyDrive/測試照片/LINE_ALBUM_220726_34.jpg: 480x640 2 紅耆s, 1 當歸, 1 玉竹, Done. (0.010s)\n",
            "image 30/35 /content/drive/MyDrive/測試照片/LINE_ALBUM_220726_4.jpg: 480x640 2 熟地s, 2 杜仲s, Done. (0.010s)\n",
            "image 31/35 /content/drive/MyDrive/測試照片/LINE_ALBUM_220726_5.jpg: 480x640 1 杜仲, Done. (0.010s)\n",
            "image 32/35 /content/drive/MyDrive/測試照片/LINE_ALBUM_220726_6.jpg: 480x640 Done. (0.010s)\n",
            "image 33/35 /content/drive/MyDrive/測試照片/LINE_ALBUM_220726_7.jpg: 480x640 Done. (0.010s)\n",
            "image 34/35 /content/drive/MyDrive/測試照片/LINE_ALBUM_220726_8.jpg: 480x640 Done. (0.010s)\n",
            "image 35/35 /content/drive/MyDrive/測試照片/LINE_ALBUM_220726_9.jpg: 480x640 2 狗脊s, 2 肉蓯蓉s, Done. (0.010s)\n",
            "Speed: 0.6ms pre-process, 10.6ms inference, 1.0ms NMS per image at shape (1, 3, 640, 640)\n",
            "Results saved to \u001b[1mruns/detect/exp4\u001b[0m\n"
          ]
        }
      ],
      "source": [
        "!python /content/yolov5/detect.py --source /content/drive/MyDrive/測試照片 --weights /content/yolov5/data/123.pt"
      ]
    }
  ],
  "metadata": {
    "accelerator": "GPU",
    "colab": {
      "collapsed_sections": [],
      "name": "Yolov5.ipynb",
      "provenance": [],
      "include_colab_link": true
    },
    "gpuClass": "standard",
    "kernelspec": {
      "display_name": "Python 3",
      "name": "python3"
    },
    "language_info": {
      "name": "python"
    }
  },
  "nbformat": 4,
  "nbformat_minor": 0
}